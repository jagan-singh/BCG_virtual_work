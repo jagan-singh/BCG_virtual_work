{
 "cells": [
  {
   "cell_type": "code",
   "execution_count": 16,
   "metadata": {},
   "outputs": [],
   "source": [
    "import pandas as pd\n",
    "import numpy as np\n",
    "import matplotlib.pyplot as plt\n",
    "import plotly.express as px"
   ]
  },
  {
   "cell_type": "markdown",
   "metadata": {},
   "source": [
    "### Reading data files"
   ]
  },
  {
   "cell_type": "code",
   "execution_count": 4,
   "metadata": {},
   "outputs": [],
   "source": [
    "df = pd.read_csv('ml_case_training_data.csv')\n",
    "df_hist = pd.read_csv('ml_case_training_hist_data.csv')\n",
    "df_output = pd.read_csv('ml_case_training_output.csv')"
   ]
  },
  {
   "cell_type": "markdown",
   "metadata": {},
   "source": [
    "### Exploring datasets"
   ]
  },
  {
   "cell_type": "code",
   "execution_count": 6,
   "metadata": {},
   "outputs": [
    {
     "data": {
      "text/plain": [
       "(16096, 32)"
      ]
     },
     "execution_count": 6,
     "metadata": {},
     "output_type": "execute_result"
    }
   ],
   "source": [
    "df.shape"
   ]
  },
  {
   "cell_type": "code",
   "execution_count": 7,
   "metadata": {},
   "outputs": [
    {
     "data": {
      "text/plain": [
       "id                              0\n",
       "activity_new                 9545\n",
       "campaign_disc_ele           16096\n",
       "channel_sales                4218\n",
       "cons_12m                        0\n",
       "cons_gas_12m                    0\n",
       "cons_last_month                 0\n",
       "date_activ                      0\n",
       "date_end                        2\n",
       "date_first_activ            12588\n",
       "date_modif_prod               157\n",
       "date_renewal                   40\n",
       "forecast_base_bill_ele      12588\n",
       "forecast_base_bill_year     12588\n",
       "forecast_bill_12m           12588\n",
       "forecast_cons               12588\n",
       "forecast_cons_12m               0\n",
       "forecast_cons_year              0\n",
       "forecast_discount_energy      126\n",
       "forecast_meter_rent_12m         0\n",
       "forecast_price_energy_p1      126\n",
       "forecast_price_energy_p2      126\n",
       "forecast_price_pow_p1         126\n",
       "has_gas                         0\n",
       "imp_cons                        0\n",
       "margin_gross_pow_ele           13\n",
       "margin_net_pow_ele             13\n",
       "nb_prod_act                     0\n",
       "net_margin                     15\n",
       "num_years_antig                 0\n",
       "origin_up                      87\n",
       "pow_max                         3\n",
       "dtype: int64"
      ]
     },
     "execution_count": 7,
     "metadata": {},
     "output_type": "execute_result"
    }
   ],
   "source": [
    "df.isna().sum()"
   ]
  },
  {
   "cell_type": "code",
   "execution_count": 9,
   "metadata": {},
   "outputs": [
    {
     "data": {
      "text/plain": [
       "(193002, 8)"
      ]
     },
     "execution_count": 9,
     "metadata": {},
     "output_type": "execute_result"
    }
   ],
   "source": [
    "df_hist.shape"
   ]
  },
  {
   "cell_type": "code",
   "execution_count": 11,
   "metadata": {},
   "outputs": [
    {
     "data": {
      "text/plain": [
       "id                 0\n",
       "price_date         0\n",
       "price_p1_var    1359\n",
       "price_p2_var    1359\n",
       "price_p3_var    1359\n",
       "price_p1_fix    1359\n",
       "price_p2_fix    1359\n",
       "price_p3_fix    1359\n",
       "dtype: int64"
      ]
     },
     "execution_count": 11,
     "metadata": {},
     "output_type": "execute_result"
    }
   ],
   "source": [
    "df_hist.isna().sum()"
   ]
  },
  {
   "cell_type": "code",
   "execution_count": 12,
   "metadata": {},
   "outputs": [
    {
     "data": {
      "text/plain": [
       "(16096, 2)"
      ]
     },
     "execution_count": 12,
     "metadata": {},
     "output_type": "execute_result"
    }
   ],
   "source": [
    "df_output.shape"
   ]
  },
  {
   "cell_type": "code",
   "execution_count": 13,
   "metadata": {},
   "outputs": [
    {
     "data": {
      "text/plain": [
       "id       0\n",
       "churn    0\n",
       "dtype: int64"
      ]
     },
     "execution_count": 13,
     "metadata": {},
     "output_type": "execute_result"
    }
   ],
   "source": [
    "df_output.isna().sum()"
   ]
  },
  {
   "cell_type": "code",
   "execution_count": 14,
   "metadata": {},
   "outputs": [
    {
     "data": {
      "text/html": [
       "<div>\n",
       "<style scoped>\n",
       "    .dataframe tbody tr th:only-of-type {\n",
       "        vertical-align: middle;\n",
       "    }\n",
       "\n",
       "    .dataframe tbody tr th {\n",
       "        vertical-align: top;\n",
       "    }\n",
       "\n",
       "    .dataframe thead th {\n",
       "        text-align: right;\n",
       "    }\n",
       "</style>\n",
       "<table border=\"1\" class=\"dataframe\">\n",
       "  <thead>\n",
       "    <tr style=\"text-align: right;\">\n",
       "      <th></th>\n",
       "      <th>id</th>\n",
       "      <th>price_date</th>\n",
       "      <th>price_p1_var</th>\n",
       "      <th>price_p2_var</th>\n",
       "      <th>price_p3_var</th>\n",
       "      <th>price_p1_fix</th>\n",
       "      <th>price_p2_fix</th>\n",
       "      <th>price_p3_fix</th>\n",
       "    </tr>\n",
       "  </thead>\n",
       "  <tbody>\n",
       "    <tr>\n",
       "      <th>0</th>\n",
       "      <td>038af19179925da21a25619c5a24b745</td>\n",
       "      <td>2015-01-01</td>\n",
       "      <td>0.151367</td>\n",
       "      <td>0.0</td>\n",
       "      <td>0.0</td>\n",
       "      <td>44.266931</td>\n",
       "      <td>0.0</td>\n",
       "      <td>0.0</td>\n",
       "    </tr>\n",
       "    <tr>\n",
       "      <th>1</th>\n",
       "      <td>038af19179925da21a25619c5a24b745</td>\n",
       "      <td>2015-02-01</td>\n",
       "      <td>0.151367</td>\n",
       "      <td>0.0</td>\n",
       "      <td>0.0</td>\n",
       "      <td>44.266931</td>\n",
       "      <td>0.0</td>\n",
       "      <td>0.0</td>\n",
       "    </tr>\n",
       "    <tr>\n",
       "      <th>2</th>\n",
       "      <td>038af19179925da21a25619c5a24b745</td>\n",
       "      <td>2015-03-01</td>\n",
       "      <td>0.151367</td>\n",
       "      <td>0.0</td>\n",
       "      <td>0.0</td>\n",
       "      <td>44.266931</td>\n",
       "      <td>0.0</td>\n",
       "      <td>0.0</td>\n",
       "    </tr>\n",
       "    <tr>\n",
       "      <th>3</th>\n",
       "      <td>038af19179925da21a25619c5a24b745</td>\n",
       "      <td>2015-04-01</td>\n",
       "      <td>0.149626</td>\n",
       "      <td>0.0</td>\n",
       "      <td>0.0</td>\n",
       "      <td>44.266931</td>\n",
       "      <td>0.0</td>\n",
       "      <td>0.0</td>\n",
       "    </tr>\n",
       "    <tr>\n",
       "      <th>4</th>\n",
       "      <td>038af19179925da21a25619c5a24b745</td>\n",
       "      <td>2015-05-01</td>\n",
       "      <td>0.149626</td>\n",
       "      <td>0.0</td>\n",
       "      <td>0.0</td>\n",
       "      <td>44.266931</td>\n",
       "      <td>0.0</td>\n",
       "      <td>0.0</td>\n",
       "    </tr>\n",
       "  </tbody>\n",
       "</table>\n",
       "</div>"
      ],
      "text/plain": [
       "                                 id  price_date  price_p1_var  price_p2_var  \\\n",
       "0  038af19179925da21a25619c5a24b745  2015-01-01      0.151367           0.0   \n",
       "1  038af19179925da21a25619c5a24b745  2015-02-01      0.151367           0.0   \n",
       "2  038af19179925da21a25619c5a24b745  2015-03-01      0.151367           0.0   \n",
       "3  038af19179925da21a25619c5a24b745  2015-04-01      0.149626           0.0   \n",
       "4  038af19179925da21a25619c5a24b745  2015-05-01      0.149626           0.0   \n",
       "\n",
       "   price_p3_var  price_p1_fix  price_p2_fix  price_p3_fix  \n",
       "0           0.0     44.266931           0.0           0.0  \n",
       "1           0.0     44.266931           0.0           0.0  \n",
       "2           0.0     44.266931           0.0           0.0  \n",
       "3           0.0     44.266931           0.0           0.0  \n",
       "4           0.0     44.266931           0.0           0.0  "
      ]
     },
     "execution_count": 14,
     "metadata": {},
     "output_type": "execute_result"
    }
   ],
   "source": [
    "df_hist.head()"
   ]
  },
  {
   "cell_type": "code",
   "execution_count": 23,
   "metadata": {},
   "outputs": [
    {
     "name": "stdout",
     "output_type": "stream",
     "text": [
      "<class 'pandas.core.frame.DataFrame'>\n",
      "RangeIndex: 193002 entries, 0 to 193001\n",
      "Data columns (total 8 columns):\n",
      " #   Column        Non-Null Count   Dtype         \n",
      "---  ------        --------------   -----         \n",
      " 0   id            193002 non-null  object        \n",
      " 1   price_date    193002 non-null  datetime64[ns]\n",
      " 2   price_p1_var  191643 non-null  float64       \n",
      " 3   price_p2_var  191643 non-null  float64       \n",
      " 4   price_p3_var  191643 non-null  float64       \n",
      " 5   price_p1_fix  191643 non-null  float64       \n",
      " 6   price_p2_fix  191643 non-null  float64       \n",
      " 7   price_p3_fix  191643 non-null  float64       \n",
      "dtypes: datetime64[ns](1), float64(6), object(1)\n",
      "memory usage: 11.8+ MB\n"
     ]
    }
   ],
   "source": [
    "df_hist.info()"
   ]
  },
  {
   "cell_type": "code",
   "execution_count": 21,
   "metadata": {},
   "outputs": [],
   "source": [
    "df_hist['price_date'] = pd.to_datetime(df_hist['price_date'])"
   ]
  },
  {
   "cell_type": "code",
   "execution_count": 24,
   "metadata": {},
   "outputs": [
    {
     "name": "stdout",
     "output_type": "stream",
     "text": [
      "<class 'pandas.core.frame.DataFrame'>\n",
      "RangeIndex: 193002 entries, 0 to 193001\n",
      "Data columns (total 8 columns):\n",
      " #   Column        Non-Null Count   Dtype         \n",
      "---  ------        --------------   -----         \n",
      " 0   id            193002 non-null  object        \n",
      " 1   price_date    193002 non-null  datetime64[ns]\n",
      " 2   price_p1_var  191643 non-null  float64       \n",
      " 3   price_p2_var  191643 non-null  float64       \n",
      " 4   price_p3_var  191643 non-null  float64       \n",
      " 5   price_p1_fix  191643 non-null  float64       \n",
      " 6   price_p2_fix  191643 non-null  float64       \n",
      " 7   price_p3_fix  191643 non-null  float64       \n",
      "dtypes: datetime64[ns](1), float64(6), object(1)\n",
      "memory usage: 11.8+ MB\n"
     ]
    }
   ],
   "source": [
    "df_hist.info()"
   ]
  },
  {
   "cell_type": "markdown",
   "metadata": {},
   "source": [
    "### Finding average price for each customer"
   ]
  },
  {
   "cell_type": "code",
   "execution_count": 33,
   "metadata": {},
   "outputs": [],
   "source": [
    "df_hist = df_hist.groupby('id').mean()"
   ]
  },
  {
   "cell_type": "code",
   "execution_count": 34,
   "metadata": {},
   "outputs": [
    {
     "data": {
      "text/html": [
       "<div>\n",
       "<style scoped>\n",
       "    .dataframe tbody tr th:only-of-type {\n",
       "        vertical-align: middle;\n",
       "    }\n",
       "\n",
       "    .dataframe tbody tr th {\n",
       "        vertical-align: top;\n",
       "    }\n",
       "\n",
       "    .dataframe thead th {\n",
       "        text-align: right;\n",
       "    }\n",
       "</style>\n",
       "<table border=\"1\" class=\"dataframe\">\n",
       "  <thead>\n",
       "    <tr style=\"text-align: right;\">\n",
       "      <th></th>\n",
       "      <th>price_p1_var</th>\n",
       "      <th>price_p2_var</th>\n",
       "      <th>price_p3_var</th>\n",
       "      <th>price_p1_fix</th>\n",
       "      <th>price_p2_fix</th>\n",
       "      <th>price_p3_fix</th>\n",
       "    </tr>\n",
       "    <tr>\n",
       "      <th>id</th>\n",
       "      <th></th>\n",
       "      <th></th>\n",
       "      <th></th>\n",
       "      <th></th>\n",
       "      <th></th>\n",
       "      <th></th>\n",
       "    </tr>\n",
       "  </thead>\n",
       "  <tbody>\n",
       "    <tr>\n",
       "      <th>0002203ffbb812588b632b9e628cc38d</th>\n",
       "      <td>0.124338</td>\n",
       "      <td>0.103794</td>\n",
       "      <td>0.073160</td>\n",
       "      <td>40.701732</td>\n",
       "      <td>24.421038</td>\n",
       "      <td>16.280694</td>\n",
       "    </tr>\n",
       "    <tr>\n",
       "      <th>0004351ebdd665e6ee664792efc4fd13</th>\n",
       "      <td>0.146426</td>\n",
       "      <td>0.000000</td>\n",
       "      <td>0.000000</td>\n",
       "      <td>44.385450</td>\n",
       "      <td>0.000000</td>\n",
       "      <td>0.000000</td>\n",
       "    </tr>\n",
       "    <tr>\n",
       "      <th>0010bcc39e42b3c2131ed2ce55246e3c</th>\n",
       "      <td>0.181558</td>\n",
       "      <td>0.000000</td>\n",
       "      <td>0.000000</td>\n",
       "      <td>45.319710</td>\n",
       "      <td>0.000000</td>\n",
       "      <td>0.000000</td>\n",
       "    </tr>\n",
       "    <tr>\n",
       "      <th>0010ee3855fdea87602a5b7aba8e42de</th>\n",
       "      <td>0.118757</td>\n",
       "      <td>0.098292</td>\n",
       "      <td>0.069032</td>\n",
       "      <td>40.647427</td>\n",
       "      <td>24.388455</td>\n",
       "      <td>16.258971</td>\n",
       "    </tr>\n",
       "    <tr>\n",
       "      <th>00114d74e963e47177db89bc70108537</th>\n",
       "      <td>0.147926</td>\n",
       "      <td>0.000000</td>\n",
       "      <td>0.000000</td>\n",
       "      <td>44.266930</td>\n",
       "      <td>0.000000</td>\n",
       "      <td>0.000000</td>\n",
       "    </tr>\n",
       "  </tbody>\n",
       "</table>\n",
       "</div>"
      ],
      "text/plain": [
       "                                  price_p1_var  price_p2_var  price_p3_var  \\\n",
       "id                                                                           \n",
       "0002203ffbb812588b632b9e628cc38d      0.124338      0.103794      0.073160   \n",
       "0004351ebdd665e6ee664792efc4fd13      0.146426      0.000000      0.000000   \n",
       "0010bcc39e42b3c2131ed2ce55246e3c      0.181558      0.000000      0.000000   \n",
       "0010ee3855fdea87602a5b7aba8e42de      0.118757      0.098292      0.069032   \n",
       "00114d74e963e47177db89bc70108537      0.147926      0.000000      0.000000   \n",
       "\n",
       "                                  price_p1_fix  price_p2_fix  price_p3_fix  \n",
       "id                                                                          \n",
       "0002203ffbb812588b632b9e628cc38d     40.701732     24.421038     16.280694  \n",
       "0004351ebdd665e6ee664792efc4fd13     44.385450      0.000000      0.000000  \n",
       "0010bcc39e42b3c2131ed2ce55246e3c     45.319710      0.000000      0.000000  \n",
       "0010ee3855fdea87602a5b7aba8e42de     40.647427     24.388455     16.258971  \n",
       "00114d74e963e47177db89bc70108537     44.266930      0.000000      0.000000  "
      ]
     },
     "execution_count": 34,
     "metadata": {},
     "output_type": "execute_result"
    }
   ],
   "source": [
    "df_hist.head()"
   ]
  },
  {
   "cell_type": "markdown",
   "metadata": {},
   "source": [
    "## Merging all three datasets to one "
   ]
  },
  {
   "cell_type": "code",
   "execution_count": 39,
   "metadata": {},
   "outputs": [],
   "source": [
    "df = pd.merge(df, df_hist,  on = 'id').merge(df_output, on = 'id')"
   ]
  },
  {
   "cell_type": "code",
   "execution_count": 40,
   "metadata": {},
   "outputs": [
    {
     "data": {
      "text/plain": [
       "(16096, 39)"
      ]
     },
     "execution_count": 40,
     "metadata": {},
     "output_type": "execute_result"
    }
   ],
   "source": [
    "df.shape"
   ]
  },
  {
   "cell_type": "code",
   "execution_count": 41,
   "metadata": {},
   "outputs": [
    {
     "data": {
      "text/html": [
       "<div>\n",
       "<style scoped>\n",
       "    .dataframe tbody tr th:only-of-type {\n",
       "        vertical-align: middle;\n",
       "    }\n",
       "\n",
       "    .dataframe tbody tr th {\n",
       "        vertical-align: top;\n",
       "    }\n",
       "\n",
       "    .dataframe thead th {\n",
       "        text-align: right;\n",
       "    }\n",
       "</style>\n",
       "<table border=\"1\" class=\"dataframe\">\n",
       "  <thead>\n",
       "    <tr style=\"text-align: right;\">\n",
       "      <th></th>\n",
       "      <th>id</th>\n",
       "      <th>activity_new</th>\n",
       "      <th>campaign_disc_ele</th>\n",
       "      <th>channel_sales</th>\n",
       "      <th>cons_12m</th>\n",
       "      <th>cons_gas_12m</th>\n",
       "      <th>cons_last_month</th>\n",
       "      <th>date_activ</th>\n",
       "      <th>date_end</th>\n",
       "      <th>date_first_activ</th>\n",
       "      <th>...</th>\n",
       "      <th>num_years_antig</th>\n",
       "      <th>origin_up</th>\n",
       "      <th>pow_max</th>\n",
       "      <th>price_p1_var</th>\n",
       "      <th>price_p2_var</th>\n",
       "      <th>price_p3_var</th>\n",
       "      <th>price_p1_fix</th>\n",
       "      <th>price_p2_fix</th>\n",
       "      <th>price_p3_fix</th>\n",
       "      <th>churn</th>\n",
       "    </tr>\n",
       "  </thead>\n",
       "  <tbody>\n",
       "    <tr>\n",
       "      <th>0</th>\n",
       "      <td>48ada52261e7cf58715202705a0451c9</td>\n",
       "      <td>esoiiifxdlbkcsluxmfuacbdckommixw</td>\n",
       "      <td>NaN</td>\n",
       "      <td>lmkebamcaaclubfxadlmueccxoimlema</td>\n",
       "      <td>309275</td>\n",
       "      <td>0</td>\n",
       "      <td>10025</td>\n",
       "      <td>2012-11-07</td>\n",
       "      <td>2016-11-06</td>\n",
       "      <td>NaN</td>\n",
       "      <td>...</td>\n",
       "      <td>3</td>\n",
       "      <td>ldkssxwpmemidmecebumciepifcamkci</td>\n",
       "      <td>180.000</td>\n",
       "      <td>0.103449</td>\n",
       "      <td>0.092115</td>\n",
       "      <td>0.067241</td>\n",
       "      <td>58.956502</td>\n",
       "      <td>36.356887</td>\n",
       "      <td>8.337051</td>\n",
       "      <td>0</td>\n",
       "    </tr>\n",
       "    <tr>\n",
       "      <th>1</th>\n",
       "      <td>24011ae4ebbe3035111d65fa7c15bc57</td>\n",
       "      <td>NaN</td>\n",
       "      <td>NaN</td>\n",
       "      <td>foosdfpfkusacimwkcsosbicdxkicaua</td>\n",
       "      <td>0</td>\n",
       "      <td>54946</td>\n",
       "      <td>0</td>\n",
       "      <td>2013-06-15</td>\n",
       "      <td>2016-06-15</td>\n",
       "      <td>NaN</td>\n",
       "      <td>...</td>\n",
       "      <td>3</td>\n",
       "      <td>lxidpiddsbxsbosboudacockeimpuepw</td>\n",
       "      <td>43.648</td>\n",
       "      <td>0.122856</td>\n",
       "      <td>0.102137</td>\n",
       "      <td>0.072579</td>\n",
       "      <td>40.640023</td>\n",
       "      <td>24.384011</td>\n",
       "      <td>16.256008</td>\n",
       "      <td>1</td>\n",
       "    </tr>\n",
       "    <tr>\n",
       "      <th>2</th>\n",
       "      <td>d29c2c54acc38ff3c0614d0a653813dd</td>\n",
       "      <td>NaN</td>\n",
       "      <td>NaN</td>\n",
       "      <td>NaN</td>\n",
       "      <td>4660</td>\n",
       "      <td>0</td>\n",
       "      <td>0</td>\n",
       "      <td>2009-08-21</td>\n",
       "      <td>2016-08-30</td>\n",
       "      <td>NaN</td>\n",
       "      <td>...</td>\n",
       "      <td>6</td>\n",
       "      <td>kamkkxfxxuwbdslkwifmmcsiusiuosws</td>\n",
       "      <td>13.800</td>\n",
       "      <td>0.149934</td>\n",
       "      <td>0.000000</td>\n",
       "      <td>0.000000</td>\n",
       "      <td>44.315416</td>\n",
       "      <td>0.000000</td>\n",
       "      <td>0.000000</td>\n",
       "      <td>0</td>\n",
       "    </tr>\n",
       "    <tr>\n",
       "      <th>3</th>\n",
       "      <td>764c75f661154dac3a6c254cd082ea7d</td>\n",
       "      <td>NaN</td>\n",
       "      <td>NaN</td>\n",
       "      <td>foosdfpfkusacimwkcsosbicdxkicaua</td>\n",
       "      <td>544</td>\n",
       "      <td>0</td>\n",
       "      <td>0</td>\n",
       "      <td>2010-04-16</td>\n",
       "      <td>2016-04-16</td>\n",
       "      <td>NaN</td>\n",
       "      <td>...</td>\n",
       "      <td>6</td>\n",
       "      <td>kamkkxfxxuwbdslkwifmmcsiusiuosws</td>\n",
       "      <td>13.856</td>\n",
       "      <td>0.170512</td>\n",
       "      <td>0.088421</td>\n",
       "      <td>0.000000</td>\n",
       "      <td>44.385450</td>\n",
       "      <td>0.000000</td>\n",
       "      <td>0.000000</td>\n",
       "      <td>0</td>\n",
       "    </tr>\n",
       "    <tr>\n",
       "      <th>4</th>\n",
       "      <td>bba03439a292a1e166f80264c16191cb</td>\n",
       "      <td>NaN</td>\n",
       "      <td>NaN</td>\n",
       "      <td>lmkebamcaaclubfxadlmueccxoimlema</td>\n",
       "      <td>1584</td>\n",
       "      <td>0</td>\n",
       "      <td>0</td>\n",
       "      <td>2010-03-30</td>\n",
       "      <td>2016-03-30</td>\n",
       "      <td>NaN</td>\n",
       "      <td>...</td>\n",
       "      <td>6</td>\n",
       "      <td>kamkkxfxxuwbdslkwifmmcsiusiuosws</td>\n",
       "      <td>13.200</td>\n",
       "      <td>0.151210</td>\n",
       "      <td>0.000000</td>\n",
       "      <td>0.000000</td>\n",
       "      <td>44.400265</td>\n",
       "      <td>0.000000</td>\n",
       "      <td>0.000000</td>\n",
       "      <td>0</td>\n",
       "    </tr>\n",
       "  </tbody>\n",
       "</table>\n",
       "<p>5 rows × 39 columns</p>\n",
       "</div>"
      ],
      "text/plain": [
       "                                 id                      activity_new  \\\n",
       "0  48ada52261e7cf58715202705a0451c9  esoiiifxdlbkcsluxmfuacbdckommixw   \n",
       "1  24011ae4ebbe3035111d65fa7c15bc57                               NaN   \n",
       "2  d29c2c54acc38ff3c0614d0a653813dd                               NaN   \n",
       "3  764c75f661154dac3a6c254cd082ea7d                               NaN   \n",
       "4  bba03439a292a1e166f80264c16191cb                               NaN   \n",
       "\n",
       "   campaign_disc_ele                     channel_sales  cons_12m  \\\n",
       "0                NaN  lmkebamcaaclubfxadlmueccxoimlema    309275   \n",
       "1                NaN  foosdfpfkusacimwkcsosbicdxkicaua         0   \n",
       "2                NaN                               NaN      4660   \n",
       "3                NaN  foosdfpfkusacimwkcsosbicdxkicaua       544   \n",
       "4                NaN  lmkebamcaaclubfxadlmueccxoimlema      1584   \n",
       "\n",
       "   cons_gas_12m  cons_last_month  date_activ    date_end date_first_activ  \\\n",
       "0             0            10025  2012-11-07  2016-11-06              NaN   \n",
       "1         54946                0  2013-06-15  2016-06-15              NaN   \n",
       "2             0                0  2009-08-21  2016-08-30              NaN   \n",
       "3             0                0  2010-04-16  2016-04-16              NaN   \n",
       "4             0                0  2010-03-30  2016-03-30              NaN   \n",
       "\n",
       "   ... num_years_antig                         origin_up  pow_max  \\\n",
       "0  ...               3  ldkssxwpmemidmecebumciepifcamkci  180.000   \n",
       "1  ...               3  lxidpiddsbxsbosboudacockeimpuepw   43.648   \n",
       "2  ...               6  kamkkxfxxuwbdslkwifmmcsiusiuosws   13.800   \n",
       "3  ...               6  kamkkxfxxuwbdslkwifmmcsiusiuosws   13.856   \n",
       "4  ...               6  kamkkxfxxuwbdslkwifmmcsiusiuosws   13.200   \n",
       "\n",
       "   price_p1_var  price_p2_var  price_p3_var  price_p1_fix  price_p2_fix  \\\n",
       "0      0.103449      0.092115      0.067241     58.956502     36.356887   \n",
       "1      0.122856      0.102137      0.072579     40.640023     24.384011   \n",
       "2      0.149934      0.000000      0.000000     44.315416      0.000000   \n",
       "3      0.170512      0.088421      0.000000     44.385450      0.000000   \n",
       "4      0.151210      0.000000      0.000000     44.400265      0.000000   \n",
       "\n",
       "   price_p3_fix  churn  \n",
       "0      8.337051      0  \n",
       "1     16.256008      1  \n",
       "2      0.000000      0  \n",
       "3      0.000000      0  \n",
       "4      0.000000      0  \n",
       "\n",
       "[5 rows x 39 columns]"
      ]
     },
     "execution_count": 41,
     "metadata": {},
     "output_type": "execute_result"
    }
   ],
   "source": [
    "df.head()"
   ]
  },
  {
   "cell_type": "code",
   "execution_count": 42,
   "metadata": {},
   "outputs": [
    {
     "data": {
      "text/plain": [
       "id                              0\n",
       "activity_new                 9545\n",
       "campaign_disc_ele           16096\n",
       "channel_sales                4218\n",
       "cons_12m                        0\n",
       "cons_gas_12m                    0\n",
       "cons_last_month                 0\n",
       "date_activ                      0\n",
       "date_end                        2\n",
       "date_first_activ            12588\n",
       "date_modif_prod               157\n",
       "date_renewal                   40\n",
       "forecast_base_bill_ele      12588\n",
       "forecast_base_bill_year     12588\n",
       "forecast_bill_12m           12588\n",
       "forecast_cons               12588\n",
       "forecast_cons_12m               0\n",
       "forecast_cons_year              0\n",
       "forecast_discount_energy      126\n",
       "forecast_meter_rent_12m         0\n",
       "forecast_price_energy_p1      126\n",
       "forecast_price_energy_p2      126\n",
       "forecast_price_pow_p1         126\n",
       "has_gas                         0\n",
       "imp_cons                        0\n",
       "margin_gross_pow_ele           13\n",
       "margin_net_pow_ele             13\n",
       "nb_prod_act                     0\n",
       "net_margin                     15\n",
       "num_years_antig                 0\n",
       "origin_up                      87\n",
       "pow_max                         3\n",
       "price_p1_var                    2\n",
       "price_p2_var                    2\n",
       "price_p3_var                    2\n",
       "price_p1_fix                    2\n",
       "price_p2_fix                    2\n",
       "price_p3_fix                    2\n",
       "churn                           0\n",
       "dtype: int64"
      ]
     },
     "execution_count": 42,
     "metadata": {},
     "output_type": "execute_result"
    }
   ],
   "source": [
    "df.isna().sum()"
   ]
  },
  {
   "cell_type": "code",
   "execution_count": null,
   "metadata": {},
   "outputs": [],
   "source": []
  }
 ],
 "metadata": {
  "kernelspec": {
   "display_name": "Python 3",
   "language": "python",
   "name": "python3"
  },
  "language_info": {
   "codemirror_mode": {
    "name": "ipython",
    "version": 3
   },
   "file_extension": ".py",
   "mimetype": "text/x-python",
   "name": "python",
   "nbconvert_exporter": "python",
   "pygments_lexer": "ipython3",
   "version": "3.8.3"
  }
 },
 "nbformat": 4,
 "nbformat_minor": 4
}
